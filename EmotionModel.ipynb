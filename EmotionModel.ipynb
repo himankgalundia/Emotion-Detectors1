{
  "nbformat": 4,
  "nbformat_minor": 0,
  "metadata": {
    "colab": {
      "provenance": [],
      "include_colab_link": true
    },
    "kernelspec": {
      "name": "python3",
      "display_name": "Python 3"
    },
    "language_info": {
      "name": "python"
    }
  },
  "cells": [
    {
      "cell_type": "markdown",
      "metadata": {
        "id": "view-in-github",
        "colab_type": "text"
      },
      "source": [
        "<a href=\"https://colab.research.google.com/github/himankgalundia/Emotion-Detectors1/blob/main/EmotionModel.ipynb\" target=\"_parent\"><img src=\"https://colab.research.google.com/assets/colab-badge.svg\" alt=\"Open In Colab\"/></a>"
      ]
    },
    {
      "cell_type": "code",
      "execution_count": null,
      "metadata": {
        "id": "n2boce7VaUNu",
        "colab": {
          "base_uri": "https://localhost:8080/"
        },
        "outputId": "a4d8e80a-4198-4b42-e0a1-e0759c8ca880",
        "collapsed": true
      },
      "outputs": [
        {
          "output_type": "stream",
          "name": "stdout",
          "text": [
            "Archive:  HappyImages.zip\n",
            "  inflating: HappyImages/IMG_0.png   \n",
            "  inflating: HappyImages/IMG_10.png  \n",
            "  inflating: HappyImages/IMG_100.png  \n",
            "  inflating: HappyImages/IMG_102.png  \n",
            "  inflating: HappyImages/IMG_104.png  \n",
            "  inflating: HappyImages/IMG_106.png  \n",
            "  inflating: HappyImages/IMG_108.png  \n",
            "  inflating: HappyImages/IMG_110.png  \n",
            "  inflating: HappyImages/IMG_112.png  \n",
            "  inflating: HappyImages/IMG_114.png  \n",
            "  inflating: HappyImages/IMG_116.png  \n",
            "  inflating: HappyImages/IMG_118.png  \n",
            "  inflating: HappyImages/IMG_12.png  \n",
            "  inflating: HappyImages/IMG_120.png  \n",
            "  inflating: HappyImages/IMG_122.png  \n",
            "  inflating: HappyImages/IMG_124.png  \n",
            "  inflating: HappyImages/IMG_126.png  \n",
            "  inflating: HappyImages/IMG_128.png  \n",
            "  inflating: HappyImages/IMG_130.png  \n",
            "  inflating: HappyImages/IMG_132.png  \n",
            "  inflating: HappyImages/IMG_134.png  \n",
            "  inflating: HappyImages/IMG_136.png  \n",
            "  inflating: HappyImages/IMG_138.png  \n",
            "  inflating: HappyImages/IMG_14.png  \n",
            "  inflating: HappyImages/IMG_140.png  \n",
            "  inflating: HappyImages/IMG_142.png  \n",
            "  inflating: HappyImages/IMG_144.png  \n",
            "  inflating: HappyImages/IMG_146.png  \n",
            "  inflating: HappyImages/IMG_148.png  \n",
            "  inflating: HappyImages/IMG_16.png  \n",
            "  inflating: HappyImages/IMG_18.png  \n",
            "  inflating: HappyImages/IMG_2.png   \n",
            "  inflating: HappyImages/IMG_20.png  \n",
            "  inflating: HappyImages/IMG_22.png  \n",
            "  inflating: HappyImages/IMG_24.png  \n",
            "  inflating: HappyImages/IMG_26.png  \n",
            "  inflating: HappyImages/IMG_28.png  \n",
            "  inflating: HappyImages/IMG_30.png  \n",
            "  inflating: HappyImages/IMG_32.png  \n",
            "  inflating: HappyImages/IMG_34.png  \n",
            "  inflating: HappyImages/IMG_36.png  \n",
            "  inflating: HappyImages/IMG_38.png  \n",
            "  inflating: HappyImages/IMG_4.png   \n",
            "  inflating: HappyImages/IMG_40.png  \n",
            "  inflating: HappyImages/IMG_42.png  \n",
            "  inflating: HappyImages/IMG_44.png  \n",
            "  inflating: HappyImages/IMG_46.png  \n",
            "  inflating: HappyImages/IMG_48.png  \n",
            "  inflating: HappyImages/IMG_50.png  \n",
            "  inflating: HappyImages/IMG_52.png  \n",
            "  inflating: HappyImages/IMG_54.png  \n",
            "  inflating: HappyImages/IMG_56.png  \n",
            "  inflating: HappyImages/IMG_58.png  \n",
            "  inflating: HappyImages/IMG_6.png   \n",
            "  inflating: HappyImages/IMG_60.png  \n",
            "  inflating: HappyImages/IMG_62.png  \n",
            "  inflating: HappyImages/IMG_64.png  \n",
            "  inflating: HappyImages/IMG_66.png  \n",
            "  inflating: HappyImages/IMG_68.png  \n",
            "  inflating: HappyImages/IMG_70.png  \n",
            "  inflating: HappyImages/IMG_72.png  \n",
            "  inflating: HappyImages/IMG_74.png  \n",
            "  inflating: HappyImages/IMG_76.png  \n",
            "  inflating: HappyImages/IMG_78.png  \n",
            "  inflating: HappyImages/IMG_8.png   \n",
            "  inflating: HappyImages/IMG_80.png  \n",
            "  inflating: HappyImages/IMG_82.png  \n",
            "  inflating: HappyImages/IMG_84.png  \n",
            "  inflating: HappyImages/IMG_86.png  \n",
            "  inflating: HappyImages/IMG_88.png  \n",
            "  inflating: HappyImages/IMG_90.png  \n",
            "  inflating: HappyImages/IMG_92.png  \n",
            "  inflating: HappyImages/IMG_94.png  \n",
            "  inflating: HappyImages/IMG_96.png  \n",
            "  inflating: HappyImages/IMG_98.png  \n"
          ]
        }
      ],
      "source": [
        "!unzip HappyImages.zip"
      ]
    },
    {
      "cell_type": "code",
      "source": [
        "!unzip SurprisedImages.zip"
      ],
      "metadata": {
        "id": "01JIP1aQdD1T"
      },
      "execution_count": null,
      "outputs": []
    },
    {
      "cell_type": "code",
      "source": [
        "import cv2\n",
        "import numpy as np\n",
        "from matplotlib import pyplot as plt\n",
        "import tensorflow as tf\n",
        "import random\n",
        "from sklearn.model_selection import train_test_split"
      ],
      "metadata": {
        "id": "E5WVAKaKdKNs"
      },
      "execution_count": null,
      "outputs": []
    },
    {
      "cell_type": "code",
      "source": [
        "surprisedImages = []\n",
        "for i in range(150):\n",
        "  im = cv2.imread(f'SurprisedImages/IMAGE_{i}.png', cv2.IMREAD_GRAYSCALE)\n",
        "  im = cv2.resize(im, dsize=(100, 100))\n",
        "  if not (im[0][0] == 0 and im[0][1] == 0):\n",
        "    surprisedImages.append((im, 1))"
      ],
      "metadata": {
        "id": "OHbEKHyadLv2"
      },
      "execution_count": null,
      "outputs": []
    },
    {
      "cell_type": "code",
      "source": [
        "happyImages = []\n",
        "for i in range(74):\n",
        "  im = cv2.imread(f'HappyImages/IMG_{i}.png', cv2.IMREAD_GRAYSCALE)\n",
        "  im = cv2.resize(im, dsize=(100, 100))\n",
        "  if not (im[0][0] == 0 and im[0][1] == 0):\n",
        "    happyImages.append((im, 0))"
      ],
      "metadata": {
        "id": "rgPgcwjSeZvc"
      },
      "execution_count": null,
      "outputs": []
    },
    {
      "cell_type": "code",
      "source": [
        "totalImages = happyImages + surprisedImages"
      ],
      "metadata": {
        "id": "fFw9Bi9jeoAn"
      },
      "execution_count": null,
      "outputs": []
    },
    {
      "cell_type": "code",
      "source": [
        "random.shuffle(totalImages)"
      ],
      "metadata": {
        "id": "tjgV85b1fCxF"
      },
      "execution_count": null,
      "outputs": []
    },
    {
      "cell_type": "code",
      "source": [
        "len(totalImages)"
      ],
      "metadata": {
        "id": "rhznD3Rxi0Gg"
      },
      "execution_count": null,
      "outputs": []
    },
    {
      "cell_type": "code",
      "source": [
        "X = [x[0] for x in totalImages]\n",
        "X = np.array(X)\n",
        "X = np.reshape(X, (len(totalImages), 100, 100, 1))\n",
        "Y = [x[1] for x in totalImages]\n",
        "Y = np.array(Y)\n",
        "xtrain, xtest, ytrain, ytest = train_test_split(X, Y, test_size=0.2)"
      ],
      "metadata": {
        "id": "BwJwZMiffUNO"
      },
      "execution_count": null,
      "outputs": []
    },
    {
      "cell_type": "code",
      "source": [
        "x1 = tf.keras.layers.Input((100, 100, 1))\n",
        "x2 = tf.keras.layers.Conv2D(64, (3, 3), activation = 'relu')(x1)\n",
        "x3 = tf.keras.layers.MaxPooling2D((2, 2))(x2)\n",
        "x4 = tf.keras.layers.Conv2D(32, (3, 3), activation = 'relu')(x3)\n",
        "x5 = tf.keras.layers.MaxPooling2D((2, 2))(x4)\n",
        "x6 = tf.keras.layers.Conv2D(16, (3, 3), activation = 'relu')(x5)\n",
        "x7 = tf.keras.layers.MaxPooling2D((2, 2))(x6)\n",
        "f = tf.keras.layers.Flatten()(x7)\n",
        "d1 = tf.keras.layers.Dense(32, activation = 'relu')(f)\n",
        "d2 = tf.keras.layers.Dense(16, activation = 'relu')(d1)\n",
        "d3 = tf.keras.layers.Dense(1, activation = 'sigmoid')(d2)\n",
        "model = tf.keras.models.Model(inputs=x1, outputs=d3)"
      ],
      "metadata": {
        "id": "dWovdVp2hvtJ"
      },
      "execution_count": null,
      "outputs": []
    },
    {
      "cell_type": "code",
      "source": [
        "model.summary()\n",
        "model.compile(loss='binary_crossentropy',\n",
        "              optimizer = 'adam',\n",
        "              metrics = ['accuracy'])"
      ],
      "metadata": {
        "id": "Q15McvQ7jHxt",
        "colab": {
          "base_uri": "https://localhost:8080/"
        },
        "outputId": "6ed233f4-0119-43c9-bce2-b6d802d2b700",
        "collapsed": true
      },
      "execution_count": null,
      "outputs": [
        {
          "output_type": "stream",
          "name": "stdout",
          "text": [
            "Model: \"model\"\n",
            "_________________________________________________________________\n",
            " Layer (type)                Output Shape              Param #   \n",
            "=================================================================\n",
            " input_1 (InputLayer)        [(None, 100, 100, 1)]     0         \n",
            "                                                                 \n",
            " conv2d (Conv2D)             (None, 98, 98, 64)        640       \n",
            "                                                                 \n",
            " max_pooling2d (MaxPooling2  (None, 49, 49, 64)        0         \n",
            " D)                                                              \n",
            "                                                                 \n",
            " conv2d_1 (Conv2D)           (None, 47, 47, 32)        18464     \n",
            "                                                                 \n",
            " max_pooling2d_1 (MaxPoolin  (None, 23, 23, 32)        0         \n",
            " g2D)                                                            \n",
            "                                                                 \n",
            " conv2d_2 (Conv2D)           (None, 21, 21, 16)        4624      \n",
            "                                                                 \n",
            " max_pooling2d_2 (MaxPoolin  (None, 10, 10, 16)        0         \n",
            " g2D)                                                            \n",
            "                                                                 \n",
            " flatten (Flatten)           (None, 1600)              0         \n",
            "                                                                 \n",
            " dense (Dense)               (None, 32)                51232     \n",
            "                                                                 \n",
            " dense_1 (Dense)             (None, 16)                528       \n",
            "                                                                 \n",
            " dense_2 (Dense)             (None, 1)                 17        \n",
            "                                                                 \n",
            "=================================================================\n",
            "Total params: 75505 (294.94 KB)\n",
            "Trainable params: 75505 (294.94 KB)\n",
            "Non-trainable params: 0 (0.00 Byte)\n",
            "_________________________________________________________________\n"
          ]
        }
      ]
    },
    {
      "cell_type": "code",
      "source": [
        "model.fit(xtrain, ytrain, batch_size = 10, epochs = 100)"
      ],
      "metadata": {
        "id": "GyQZTeog9KIL",
        "colab": {
          "base_uri": "https://localhost:8080/",
          "height": 144
        },
        "outputId": "ddf313b8-c86c-49ef-d7cf-a6cf36400430"
      },
      "execution_count": null,
      "outputs": [
        {
          "output_type": "error",
          "ename": "NameError",
          "evalue": "name 'model' is not defined",
          "traceback": [
            "\u001b[0;31m---------------------------------------------------------------------------\u001b[0m",
            "\u001b[0;31mNameError\u001b[0m                                 Traceback (most recent call last)",
            "\u001b[0;32m<ipython-input-10-7388d89866b7>\u001b[0m in \u001b[0;36m<cell line: 1>\u001b[0;34m()\u001b[0m\n\u001b[0;32m----> 1\u001b[0;31m \u001b[0mmodel\u001b[0m\u001b[0;34m.\u001b[0m\u001b[0mfit\u001b[0m\u001b[0;34m(\u001b[0m\u001b[0mxtrain\u001b[0m\u001b[0;34m,\u001b[0m \u001b[0mytrain\u001b[0m\u001b[0;34m,\u001b[0m \u001b[0mbatch_size\u001b[0m \u001b[0;34m=\u001b[0m \u001b[0;36m10\u001b[0m\u001b[0;34m,\u001b[0m \u001b[0mepochs\u001b[0m \u001b[0;34m=\u001b[0m \u001b[0;36m100\u001b[0m\u001b[0;34m)\u001b[0m\u001b[0;34m\u001b[0m\u001b[0;34m\u001b[0m\u001b[0m\n\u001b[0m",
            "\u001b[0;31mNameError\u001b[0m: name 'model' is not defined"
          ]
        }
      ]
    },
    {
      "cell_type": "code",
      "source": [
        "total_correct = 0\n",
        "predictions = model.predict(xtest)\n",
        "for i in range(len(predictions)):\n",
        "  guess = np.round(predictions[i])\n",
        "  if guess == ytest[i]:\n",
        "    total_correct +=1\n",
        "print(total_correct / len(predictions))"
      ],
      "metadata": {
        "id": "FKC-MYYdjJJV",
        "colab": {
          "base_uri": "https://localhost:8080/",
          "height": 216
        },
        "outputId": "e962a676-9193-4b37-b2b7-37fae21ed902",
        "collapsed": true
      },
      "execution_count": null,
      "outputs": [
        {
          "output_type": "error",
          "ename": "NameError",
          "evalue": "name 'model' is not defined",
          "traceback": [
            "\u001b[0;31m---------------------------------------------------------------------------\u001b[0m",
            "\u001b[0;31mNameError\u001b[0m                                 Traceback (most recent call last)",
            "\u001b[0;32m<ipython-input-9-0c657f98031a>\u001b[0m in \u001b[0;36m<cell line: 2>\u001b[0;34m()\u001b[0m\n\u001b[1;32m      1\u001b[0m \u001b[0mtotal_correct\u001b[0m \u001b[0;34m=\u001b[0m \u001b[0;36m0\u001b[0m\u001b[0;34m\u001b[0m\u001b[0;34m\u001b[0m\u001b[0m\n\u001b[0;32m----> 2\u001b[0;31m \u001b[0mpredictions\u001b[0m \u001b[0;34m=\u001b[0m \u001b[0mmodel\u001b[0m\u001b[0;34m.\u001b[0m\u001b[0mpredict\u001b[0m\u001b[0;34m(\u001b[0m\u001b[0mxtest\u001b[0m\u001b[0;34m)\u001b[0m\u001b[0;34m\u001b[0m\u001b[0;34m\u001b[0m\u001b[0m\n\u001b[0m\u001b[1;32m      3\u001b[0m \u001b[0;32mfor\u001b[0m \u001b[0mi\u001b[0m \u001b[0;32min\u001b[0m \u001b[0mrange\u001b[0m\u001b[0;34m(\u001b[0m\u001b[0mlen\u001b[0m\u001b[0;34m(\u001b[0m\u001b[0mpredictions\u001b[0m\u001b[0;34m)\u001b[0m\u001b[0;34m)\u001b[0m\u001b[0;34m:\u001b[0m\u001b[0;34m\u001b[0m\u001b[0;34m\u001b[0m\u001b[0m\n\u001b[1;32m      4\u001b[0m   \u001b[0mguess\u001b[0m \u001b[0;34m=\u001b[0m \u001b[0mnp\u001b[0m\u001b[0;34m.\u001b[0m\u001b[0mround\u001b[0m\u001b[0;34m(\u001b[0m\u001b[0mpredictions\u001b[0m\u001b[0;34m[\u001b[0m\u001b[0mi\u001b[0m\u001b[0;34m]\u001b[0m\u001b[0;34m)\u001b[0m\u001b[0;34m\u001b[0m\u001b[0;34m\u001b[0m\u001b[0m\n\u001b[1;32m      5\u001b[0m   \u001b[0;32mif\u001b[0m \u001b[0mguess\u001b[0m \u001b[0;34m==\u001b[0m \u001b[0mytest\u001b[0m\u001b[0;34m[\u001b[0m\u001b[0mi\u001b[0m\u001b[0;34m]\u001b[0m\u001b[0;34m:\u001b[0m\u001b[0;34m\u001b[0m\u001b[0;34m\u001b[0m\u001b[0m\n",
            "\u001b[0;31mNameError\u001b[0m: name 'model' is not defined"
          ]
        }
      ]
    },
    {
      "cell_type": "code",
      "source": [],
      "metadata": {
        "id": "eWTSsXBVCG0c"
      },
      "execution_count": null,
      "outputs": []
    },
    {
      "cell_type": "code",
      "source": [
        "from google.colab import drive\n",
        "\n",
        "drive.mount('/content/drive')\n",
        "model_path = \"/content/drive/My Drive/EmotionModel.h5\"\n",
        "model.save(model_path)"
      ],
      "metadata": {
        "colab": {
          "base_uri": "https://localhost:8080/"
        },
        "id": "I5D9mzdNlz9K",
        "outputId": "93347ad8-6516-460d-f72a-607f507b7b81",
        "collapsed": true
      },
      "execution_count": null,
      "outputs": [
        {
          "output_type": "stream",
          "name": "stdout",
          "text": [
            "Drive already mounted at /content/drive; to attempt to forcibly remount, call drive.mount(\"/content/drive\", force_remount=True).\n"
          ]
        }
      ]
    }
  ]
}